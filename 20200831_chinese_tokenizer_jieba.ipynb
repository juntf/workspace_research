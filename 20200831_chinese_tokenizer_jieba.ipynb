{
 "cells": [
  {
   "cell_type": "code",
   "execution_count": 4,
   "metadata": {},
   "outputs": [
    {
     "name": "stdout",
     "output_type": "stream",
     "text": [
      "Requirement already satisfied: jieba in /usr/local/lib/python3.5/dist-packages (0.42.1)\n",
      "\u001b[33mWARNING: You are using pip version 20.1.1; however, version 20.2.2 is available.\n",
      "You should consider upgrading via the '/usr/bin/python3 -m pip install --upgrade pip' command.\u001b[0m\n"
     ]
    }
   ],
   "source": [
    "! pip3 install jieba"
   ]
  },
  {
   "cell_type": "code",
   "execution_count": 5,
   "metadata": {},
   "outputs": [
    {
     "name": "stdout",
     "output_type": "stream",
     "text": [
      "Requirement already satisfied: paddlepaddle-tiny==1.6.1 in /usr/local/lib/python3.5/dist-packages (1.6.1)\n",
      "Requirement already satisfied: six in /usr/local/lib/python3.5/dist-packages (from paddlepaddle-tiny==1.6.1) (1.14.0)\n",
      "Requirement already satisfied: graphviz in /usr/local/lib/python3.5/dist-packages (from paddlepaddle-tiny==1.6.1) (0.14.1)\n",
      "Requirement already satisfied: requests>=2.0.0 in /usr/local/lib/python3.5/dist-packages (from paddlepaddle-tiny==1.6.1) (2.23.0)\n",
      "Requirement already satisfied: numpy>=1.12; python_version >= \"3.5\" in /usr/local/lib/python3.5/dist-packages (from paddlepaddle-tiny==1.6.1) (1.18.4)\n",
      "Requirement already satisfied: protobuf>=3.1.0 in /usr/local/lib/python3.5/dist-packages (from paddlepaddle-tiny==1.6.1) (3.13.0)\n",
      "Requirement already satisfied: objgraph in /usr/local/lib/python3.5/dist-packages (from paddlepaddle-tiny==1.6.1) (3.4.1)\n",
      "Requirement already satisfied: decorator in /usr/local/lib/python3.5/dist-packages (from paddlepaddle-tiny==1.6.1) (4.4.2)\n",
      "Requirement already satisfied: certifi>=2017.4.17 in /usr/local/lib/python3.5/dist-packages (from requests>=2.0.0->paddlepaddle-tiny==1.6.1) (2020.4.5.1)\n",
      "Requirement already satisfied: urllib3!=1.25.0,!=1.25.1,<1.26,>=1.21.1 in /usr/local/lib/python3.5/dist-packages (from requests>=2.0.0->paddlepaddle-tiny==1.6.1) (1.25.9)\n",
      "Requirement already satisfied: idna<3,>=2.5 in /usr/local/lib/python3.5/dist-packages (from requests>=2.0.0->paddlepaddle-tiny==1.6.1) (2.9)\n",
      "Requirement already satisfied: chardet<4,>=3.0.2 in /usr/local/lib/python3.5/dist-packages (from requests>=2.0.0->paddlepaddle-tiny==1.6.1) (3.0.4)\n",
      "Requirement already satisfied: setuptools in /usr/lib/python3/dist-packages (from protobuf>=3.1.0->paddlepaddle-tiny==1.6.1) (20.7.0)\n",
      "\u001b[33mWARNING: You are using pip version 20.1.1; however, version 20.2.2 is available.\n",
      "You should consider upgrading via the '/usr/bin/python3 -m pip install --upgrade pip' command.\u001b[0m\n"
     ]
    }
   ],
   "source": [
    "! pip3 install paddlepaddle-tiny==1.6.1"
   ]
  },
  {
   "cell_type": "code",
   "execution_count": 6,
   "metadata": {},
   "outputs": [
    {
     "name": "stderr",
     "output_type": "stream",
     "text": [
      "Paddle enabled successfully......\n"
     ]
    },
    {
     "name": "stdout",
     "output_type": "stream",
     "text": [
      "0.42.1\n",
      "Paddle Mode: 我/来到/北京清华大学\n",
      "Paddle Mode: 乒乓球/拍卖/完/了\n",
      "Paddle Mode: 中国科学技术大学\n",
      "Full Mode: 我/ 来到/ 北京/ 清华/ 清华大学/ 华大/ 大学\n",
      "Default Mode: 我/ 来到/ 北京/ 清华大学\n",
      "他, 来到, 了, 网易, 杭研, 大厦\n",
      "小明, 硕士, 毕业, 于, 中国, 科学, 学院, 科学院, 中国科学院, 计算, 计算所, ，, 后, 在, 日本, 京都, 大学, 日本京都大学, 深造\n"
     ]
    }
   ],
   "source": [
    "# encoding=utf-8\n",
    "import jieba\n",
    "\n",
    "# 2020.08.30 기준 최신버전 : 0.42.1\n",
    "print(jieba.__version__)\n",
    "\n",
    "# paddle버전은 0.40버전부터 지원\n",
    "jieba.enable_paddle()\n",
    "\n",
    "# paddle사용\n",
    "strs=[\"我来到北京清华大学\",\"乒乓球拍卖完了\",\"中国科学技术大学\"]\n",
    "for str in strs:\n",
    "    seg_list = jieba.cut(str,use_paddle=True)\n",
    "    print(\"Paddle Mode: \" + '/'.join(list(seg_list)))\n",
    "\n",
    "# Full-mode\n",
    "seg_list = jieba.cut(\"我来到北京清华大学\", cut_all=True)\n",
    "print(\"Full Mode: \" + \"/ \".join(seg_list))  # 全模式\n",
    "\n",
    "# 精确模式\n",
    "seg_list = jieba.cut(\"我来到北京清华大学\", cut_all=False)\n",
    "print(\"Default Mode: \" + \"/ \".join(seg_list))  \n",
    "\n",
    "# 默认是精确模式\n",
    "seg_list = jieba.cut(\"他来到了网易杭研大厦\")  \n",
    "print(\", \".join(seg_list))\n",
    "\n",
    "# 검색엔진 모드(搜索引擎模式)\n",
    "seg_list = jieba.cut_for_search(\"小明硕士毕业于中国科学院计算所，后在日本京都大学深造\") \n",
    "print(\", \".join(seg_list))"
   ]
  },
  {
   "cell_type": "code",
   "execution_count": null,
   "metadata": {},
   "outputs": [],
   "source": []
  }
 ],
 "metadata": {
  "kernelspec": {
   "display_name": "Python 3",
   "language": "python",
   "name": "python3"
  },
  "language_info": {
   "codemirror_mode": {
    "name": "ipython",
    "version": 3
   },
   "file_extension": ".py",
   "mimetype": "text/x-python",
   "name": "python",
   "nbconvert_exporter": "python",
   "pygments_lexer": "ipython3",
   "version": "3.5.2"
  }
 },
 "nbformat": 4,
 "nbformat_minor": 4
}
