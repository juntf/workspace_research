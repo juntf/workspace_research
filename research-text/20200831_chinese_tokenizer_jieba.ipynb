{
 "cells": [
  {
   "cell_type": "code",
   "execution_count": 1,
   "metadata": {},
   "outputs": [
    {
     "name": "stdout",
     "output_type": "stream",
     "text": [
      "Collecting jieba\n",
      "  Downloading jieba-0.42.1.tar.gz (19.2 MB)\n",
      "Building wheels for collected packages: jieba\n",
      "  Building wheel for jieba (setup.py): started\n",
      "  Building wheel for jieba (setup.py): finished with status 'done'\n",
      "  Created wheel for jieba: filename=jieba-0.42.1-py3-none-any.whl size=19314481 sha256=819b30a0e88bd89310d682ca381380fbb6e042208fa3841dffd96570a595b626\n",
      "  Stored in directory: c:\\users\\7040_64bit\\appdata\\local\\pip\\cache\\wheels\\24\\aa\\17\\5bc7c72e9a37990a9620cc3aad0acad1564dcff6dbc2359de3\n",
      "Successfully built jieba\n",
      "Installing collected packages: jieba\n",
      "Successfully installed jieba-0.42.1\n"
     ]
    },
    {
     "name": "stderr",
     "output_type": "stream",
     "text": [
      "WARNING: You are using pip version 20.0.2; however, version 20.2.2 is available.\n",
      "You should consider upgrading via the 'c:\\python37\\python.exe -m pip install --upgrade pip' command.\n"
     ]
    }
   ],
   "source": [
    "! pip3 install jieba"
   ]
  },
  {
   "cell_type": "code",
   "execution_count": 3,
   "metadata": {},
   "outputs": [
    {
     "name": "stdout",
     "output_type": "stream",
     "text": [
      "Collecting paddlepaddle-tiny==1.6.1\n",
      "  Downloading paddlepaddle_tiny-1.6.1-cp37-cp37m-win_amd64.whl (9.7 MB)\n",
      "Requirement already satisfied: numpy>=1.12; python_version >= \"3.5\" in c:\\python37\\lib\\site-packages (from paddlepaddle-tiny==1.6.1) (1.17.3)\n",
      "Collecting objgraph\n",
      "  Downloading objgraph-3.4.1-py2.py3-none-any.whl (17 kB)\n",
      "Collecting graphviz\n",
      "  Downloading graphviz-0.14.1-py2.py3-none-any.whl (18 kB)\n",
      "Requirement already satisfied: requests>=2.0.0 in c:\\python37\\lib\\site-packages (from paddlepaddle-tiny==1.6.1) (2.22.0)\n",
      "Requirement already satisfied: six in c:\\python37\\lib\\site-packages (from paddlepaddle-tiny==1.6.1) (1.13.0)\n",
      "Requirement already satisfied: decorator in c:\\python37\\lib\\site-packages (from paddlepaddle-tiny==1.6.1) (4.4.1)\n",
      "Requirement already satisfied: protobuf>=3.1.0 in c:\\python37\\lib\\site-packages (from paddlepaddle-tiny==1.6.1) (3.10.0)\n",
      "Requirement already satisfied: idna<2.9,>=2.5 in c:\\python37\\lib\\site-packages (from requests>=2.0.0->paddlepaddle-tiny==1.6.1) (2.8)\n",
      "Requirement already satisfied: chardet<3.1.0,>=3.0.2 in c:\\python37\\lib\\site-packages (from requests>=2.0.0->paddlepaddle-tiny==1.6.1) (3.0.4)\n",
      "Requirement already satisfied: certifi>=2017.4.17 in c:\\python37\\lib\\site-packages (from requests>=2.0.0->paddlepaddle-tiny==1.6.1) (2019.9.11)\n",
      "Requirement already satisfied: urllib3!=1.25.0,!=1.25.1,<1.26,>=1.21.1 in c:\\python37\\lib\\site-packages (from requests>=2.0.0->paddlepaddle-tiny==1.6.1) (1.25.6)\n",
      "Requirement already satisfied: setuptools in c:\\python37\\lib\\site-packages (from protobuf>=3.1.0->paddlepaddle-tiny==1.6.1) (41.2.0)\n",
      "Installing collected packages: graphviz, objgraph, paddlepaddle-tiny\n",
      "Successfully installed graphviz-0.14.1 objgraph-3.4.1 paddlepaddle-tiny-1.6.1\n"
     ]
    },
    {
     "name": "stderr",
     "output_type": "stream",
     "text": [
      "WARNING: You are using pip version 20.0.2; however, version 20.2.2 is available.\n",
      "You should consider upgrading via the 'c:\\python37\\python.exe -m pip install --upgrade pip' command.\n"
     ]
    }
   ],
   "source": [
    "! pip3 install paddlepaddle-tiny==1.6.1"
   ]
  },
  {
   "cell_type": "code",
   "execution_count": null,
   "metadata": {},
   "outputs": [],
   "source": []
  }
 ],
 "metadata": {
  "kernelspec": {
   "display_name": "Python 3",
   "language": "python",
   "name": "python3"
  },
  "language_info": {
   "codemirror_mode": {
    "name": "ipython",
    "version": 3
   },
   "file_extension": ".py",
   "mimetype": "text/x-python",
   "name": "python",
   "nbconvert_exporter": "python",
   "pygments_lexer": "ipython3",
   "version": "3.7.5"
  }
 },
 "nbformat": 4,
 "nbformat_minor": 4
}
